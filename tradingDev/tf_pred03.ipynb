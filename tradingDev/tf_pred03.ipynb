{
 "cells": [
  {
   "cell_type": "markdown",
   "source": [
    "# Tensorflow Data Analysis Example"
   ],
   "metadata": {}
  },
  {
   "cell_type": "code",
   "execution_count": 1,
   "source": [
    "import numpy as np\r\n",
    "import pandas as pd\r\n",
    "from sklearn import preprocessing\r\n",
    "import tensorflow as tf\r\n",
    "import tickDataProcessing as TDP\r\n",
    "import os"
   ],
   "outputs": [],
   "metadata": {
    "collapsed": true
   }
  },
  {
   "cell_type": "code",
   "execution_count": 2,
   "source": [
    "Path = \"dataPackages/rawdata\"\r\n",
    "tradeDays = []\r\n",
    "for root, dirs, files in os.walk(Path):\r\n",
    "    for _dir in dirs:\r\n",
    "        tradeDays.append(Path + '/' + _dir + '/')"
   ],
   "outputs": [],
   "metadata": {
    "collapsed": true
   }
  },
  {
   "cell_type": "markdown",
   "source": [
    "### get sample data"
   ],
   "metadata": {}
  },
  {
   "cell_type": "code",
   "execution_count": 3,
   "source": [
    "totalStocks = 10\r\n",
    "Path = tradeDays[0]\r\n",
    "X_sample, Y_sample = TDP.geneTrainingData_shuffle(Path, skip = 16, length = totalStocks)"
   ],
   "outputs": [],
   "metadata": {
    "collapsed": true
   }
  },
  {
   "cell_type": "code",
   "execution_count": 4,
   "source": [
    "print(X_sample.shape)\r\n",
    "print(Y_sample.shape)"
   ],
   "outputs": [
    {
     "output_type": "stream",
     "name": "stdout",
     "text": [
      "(10, 30, 21)\n",
      "(10, 30)\n"
     ]
    }
   ],
   "metadata": {}
  },
  {
   "cell_type": "markdown",
   "source": [
    "prepare traning data and labels"
   ],
   "metadata": {}
  },
  {
   "cell_type": "code",
   "execution_count": 5,
   "source": [
    "def formatting(X, Y):\r\n",
    "    X = X.transpose((1,0,2))\r\n",
    "    n = len(Y)\r\n",
    "    Y = pd.DataFrame(Y).rank() / n\r\n",
    "    Y = Y.values.transpose()\r\n",
    "    Y = np.reshape(Y, [len(Y), n, 1])\r\n",
    "    if len(X) == len(Y):\r\n",
    "        return X, Y\r\n",
    "    else:\r\n",
    "        print(\"Unmatched size of X and Y !!!\")"
   ],
   "outputs": [],
   "metadata": {
    "collapsed": true
   }
  },
  {
   "cell_type": "code",
   "execution_count": 6,
   "source": [
    "X_train, Y_train = formatting(X_sample, Y_sample)"
   ],
   "outputs": [],
   "metadata": {
    "collapsed": true
   }
  },
  {
   "cell_type": "code",
   "execution_count": 7,
   "source": [
    "print(X_train.shape)\r\n",
    "print(Y_train.shape)"
   ],
   "outputs": [
    {
     "output_type": "stream",
     "name": "stdout",
     "text": [
      "(30, 10, 21)\n",
      "(30, 10, 1)\n"
     ]
    }
   ],
   "metadata": {}
  },
  {
   "cell_type": "markdown",
   "source": [
    "### Graph"
   ],
   "metadata": {}
  },
  {
   "cell_type": "code",
   "execution_count": 8,
   "source": [
    "sess = tf.Session()\r\n",
    "x = tf.placeholder(tf.float32, [None, totalStocks, 21])\r\n",
    "y = tf.placeholder(tf.float32, [None, totalStocks, 1])\r\n",
    "nodeLayout = [40, 30, 20, 10]\r\n",
    "internalDropout = tf.placeholder(tf.float32, None)\r\n",
    "net = x\r\n",
    "dropout = 0.5\r\n",
    "with tf.name_scope('network'):\r\n",
    "    layerPos = 0\r\n",
    "    for units in nodeLayout:\r\n",
    "        net = tf.layers.dense(net, units=units, activation=tf.nn.tanh, name=str(\"dense\" + str(layerPos)))\r\n",
    "        net = tf.layers.dropout(net, rate = internalDropout)\r\n",
    "        layerPos += 1\r\n",
    "logits = tf.layers.dense(net, 1, activation=tf.nn.sigmoid)"
   ],
   "outputs": [],
   "metadata": {
    "collapsed": true
   }
  },
  {
   "cell_type": "code",
   "execution_count": 9,
   "source": [
    "with tf.name_scope('lossFunction'):\r\n",
    "    square_loss = tf.losses.mean_squared_error(predictions=logits, labels=y)"
   ],
   "outputs": [],
   "metadata": {
    "collapsed": true
   }
  },
  {
   "cell_type": "code",
   "execution_count": 10,
   "source": [
    "learningRate = .001\r\n",
    "with tf.name_scope(\"trainingStep\"):\r\n",
    "    tf.summary.scalar('squareLoss', square_loss)\r\n",
    "    trainStep = tf.train.AdamOptimizer(learningRate).minimize(square_loss)"
   ],
   "outputs": [],
   "metadata": {
    "collapsed": true
   }
  },
  {
   "cell_type": "code",
   "execution_count": 11,
   "source": [
    "init = tf.global_variables_initializer()\r\n",
    "sess.run(init)"
   ],
   "outputs": [],
   "metadata": {
    "collapsed": true
   }
  },
  {
   "cell_type": "markdown",
   "source": [
    "### Run"
   ],
   "metadata": {}
  },
  {
   "cell_type": "code",
   "execution_count": 12,
   "source": [
    "print(len(tradeDays))"
   ],
   "outputs": [
    {
     "output_type": "stream",
     "name": "stdout",
     "text": [
      "23\n"
     ]
    }
   ],
   "metadata": {}
  },
  {
   "cell_type": "code",
   "execution_count": 13,
   "source": [
    "_rank = np.random.choice(tradeDays, len(tradeDays), replace = False)\r\n",
    "days_train = _rank[0:18]\r\n",
    "days_test = _rank[18:]\r\n",
    "print(days_train)\r\n",
    "print(days_test)"
   ],
   "outputs": [
    {
     "output_type": "stream",
     "name": "stdout",
     "text": [
      "['dataPackages/rawdata/20/' 'dataPackages/rawdata/03/'\n",
      " 'dataPackages/rawdata/31/' 'dataPackages/rawdata/23/'\n",
      " 'dataPackages/rawdata/27/' 'dataPackages/rawdata/07/'\n",
      " 'dataPackages/rawdata/13/' 'dataPackages/rawdata/10/'\n",
      " 'dataPackages/rawdata/30/' 'dataPackages/rawdata/02/'\n",
      " 'dataPackages/rawdata/06/' 'dataPackages/rawdata/17/'\n",
      " 'dataPackages/rawdata/01/' 'dataPackages/rawdata/16/'\n",
      " 'dataPackages/rawdata/09/' 'dataPackages/rawdata/08/'\n",
      " 'dataPackages/rawdata/14/' 'dataPackages/rawdata/15/']\n",
      "['dataPackages/rawdata/24/' 'dataPackages/rawdata/29/'\n",
      " 'dataPackages/rawdata/22/' 'dataPackages/rawdata/21/'\n",
      " 'dataPackages/rawdata/28/']\n"
     ]
    }
   ],
   "metadata": {}
  },
  {
   "cell_type": "code",
   "execution_count": 14,
   "source": [
    "import time\r\n",
    "from matplotlib import pyplot as plt"
   ],
   "outputs": [],
   "metadata": {
    "collapsed": true
   }
  },
  {
   "cell_type": "code",
   "execution_count": 15,
   "source": [
    "epochs = 50\r\n",
    "batchSize = 5\r\n",
    "InSampleResult = []\r\n",
    "OutSampleResult = []\r\n",
    "startTime = time.time()\r\n",
    "for epoch in range(epochs):\r\n",
    "    trainError = 0.0\r\n",
    "    _iterTrain = 0\r\n",
    "    for _path in days_train:\r\n",
    "        X_sample, Y_sample = TDP.geneTrainingData_shuffle(Path, skip = 16, length = totalStocks)\r\n",
    "        try:\r\n",
    "            X, Y = formatting(X_sample, Y_sample)\r\n",
    "        except:\r\n",
    "            continue\r\n",
    "        for i in np.arange(0, len(X) - batchSize + 1):\r\n",
    "            j = np.arange(i, i + batchSize)\r\n",
    "            x_feeds = X[j]\r\n",
    "            y_feeds = Y[j]\r\n",
    "            training, _trainError = sess.run([trainStep, square_loss], \r\n",
    "                                             feed_dict = {x: x_feeds, y:y_feeds, internalDropout: dropout})\r\n",
    "        trainError += _trainError\r\n",
    "        _iterTrain += 1\r\n",
    "    InSampleResult.append(trainError / _iterTrain)\r\n",
    "    testError = 0.0\r\n",
    "    _iterTest = 0\r\n",
    "    for _path in days_test:\r\n",
    "        X_sample, Y_sample = TDP.geneTrainingData_shuffle(Path, skip = 16, length = totalStocks)\r\n",
    "        try:\r\n",
    "            X, Y = formatting(X_sample, Y_sample)\r\n",
    "        except:\r\n",
    "            continue\r\n",
    "        for i in np.arange(0, len(X) - batchSize + 1):\r\n",
    "            j = np.arange(i, i + batchSize)\r\n",
    "            x_feeds = X[j]\r\n",
    "            y_feeds = Y[j]\r\n",
    "            testError += sess.run(square_loss, feed_dict = {x: x_feeds, y:y_feeds, internalDropout: dropout})\r\n",
    "        _iterTest += 1\r\n",
    "    OutSampleResult.append(testError / _iterTest)\r\n",
    "    print(\"epoch %d: training error %.5f, testing error %.5f\" %(epoch + 1, trainError / _iterTrain, testError / _iterTest))\r\n",
    "print(\"Finished, time consume: %.2f\" %(time.time() - startTime))"
   ],
   "outputs": [
    {
     "output_type": "stream",
     "name": "stdout",
     "text": [
      "epoch 1: training error 0.06813, testing error 0.77200\n",
      "epoch 2: training error 0.02531, testing error 0.25713\n",
      "epoch 3: training error 0.01637, testing error 0.10304\n",
      "epoch 4: training error 0.00963, testing error 0.20846\n",
      "epoch 5: training error 0.00767, testing error 0.09389\n",
      "epoch 6: training error 0.00562, testing error 0.07722\n",
      "epoch 7: training error 0.00366, testing error 0.07359\n",
      "epoch 8: training error 0.00247, testing error 0.05776\n",
      "epoch 9: training error 0.00253, testing error 0.08127\n",
      "epoch 10: training error 0.00239, testing error 0.05803\n",
      "epoch 11: training error 0.00211, testing error 0.02252\n",
      "epoch 12: training error 0.00134, testing error 0.05187\n",
      "epoch 13: training error 0.00154, testing error 0.05635\n",
      "epoch 14: training error 0.00142, testing error 0.03667\n",
      "epoch 15: training error 0.00110, testing error 0.05250\n",
      "epoch 16: training error 0.00127, testing error 0.04157\n",
      "epoch 17: training error 0.00112, testing error 0.03341\n",
      "epoch 18: training error 0.00138, testing error 0.04041\n",
      "epoch 19: training error 0.00085, testing error 0.02530\n",
      "epoch 20: training error 0.00100, testing error 0.04167\n",
      "epoch 21: training error 0.00075, testing error 0.02512\n",
      "epoch 22: training error 0.00106, testing error 0.01679\n",
      "epoch 23: training error 0.00090, testing error 0.00948\n",
      "epoch 24: training error 0.00067, testing error 0.02903\n",
      "epoch 25: training error 0.00103, testing error 0.01875\n",
      "epoch 26: training error 0.00079, testing error 0.03578\n",
      "epoch 27: training error 0.00093, testing error 0.03494\n",
      "epoch 28: training error 0.00055, testing error 0.01494\n",
      "epoch 29: training error 0.00046, testing error 0.00702\n",
      "epoch 30: training error 0.00065, testing error 0.01113\n",
      "epoch 31: training error 0.00069, testing error 0.01407\n",
      "epoch 32: training error 0.00044, testing error 0.01306\n",
      "epoch 33: training error 0.00058, testing error 0.01491\n",
      "epoch 34: training error 0.00069, testing error 0.00488\n",
      "epoch 35: training error 0.00033, testing error 0.01190\n",
      "epoch 36: training error 0.00064, testing error 0.01062\n",
      "epoch 37: training error 0.00031, testing error 0.01925\n",
      "epoch 38: training error 0.00045, testing error 0.01013\n",
      "epoch 39: training error 0.00044, testing error 0.01837\n",
      "epoch 40: training error 0.00044, testing error 0.00588\n",
      "epoch 41: training error 0.00021, testing error 0.00624\n",
      "epoch 42: training error 0.00043, testing error 0.00395\n",
      "epoch 43: training error 0.00035, testing error 0.00772\n",
      "epoch 44: training error 0.00037, testing error 0.00457\n",
      "epoch 45: training error 0.00021, testing error 0.01729\n",
      "epoch 46: training error 0.00034, testing error 0.00814\n",
      "epoch 47: training error 0.00023, testing error 0.00833\n",
      "epoch 48: training error 0.00028, testing error 0.00307\n",
      "epoch 49: training error 0.00023, testing error 0.00633\n",
      "epoch 50: training error 0.00041, testing error 0.00288\n",
      "Finished, time consume: 2048.01\n"
     ]
    }
   ],
   "metadata": {}
  },
  {
   "cell_type": "code",
   "execution_count": 16,
   "source": [
    "plt.plot(InSampleResult, label = 'In Sample')\r\n",
    "plt.plot(OutSampleResult, label = 'Out Sample')\r\n",
    "plt.legend()\r\n",
    "plt.title(\"Training Errors (with shuffle)\")\r\n",
    "plt.show()"
   ],
   "outputs": [
    {
     "output_type": "display_data",
     "data": {
      "text/plain": [
       "<matplotlib.figure.Figure at 0x267dedecd68>"
      ],
      "image/png": "[encoded data removed]"
     },
     "metadata": {}
    }
   ],
   "metadata": {}
  },
  {
   "cell_type": "code",
   "execution_count": 17,
   "source": [
    "saver = tf.train.Saver()\r\n",
    "saver.save(sess, 'models/tf_pred03')"
   ],
   "outputs": [
    {
     "output_type": "execute_result",
     "data": {
      "text/plain": [
       "'models/tf_pred03'"
      ]
     },
     "metadata": {},
     "execution_count": 17
    }
   ],
   "metadata": {}
  },
  {
   "cell_type": "markdown",
   "source": [
    "## Records"
   ],
   "metadata": {}
  },
  {
   "cell_type": "code",
   "execution_count": 19,
   "source": [
    "plt.plot(InSampleResult, label = 'In Sample')\r\n",
    "plt.plot(OutSampleResult, label = 'Out Sample')\r\n",
    "plt.legend()\r\n",
    "plt.title(\"Training Errors (with shuffle)\")\r\n",
    "plt.show()"
   ],
   "outputs": [
    {
     "output_type": "display_data",
     "data": {
      "text/plain": [
       "<matplotlib.figure.Figure at 0x154c5d67eb8>"
      ],
      "image/png": "[encoded data removed]"
     },
     "metadata": {}
    }
   ],
   "metadata": {}
  },
  {
   "cell_type": "code",
   "execution_count": 16,
   "source": [
    "plt.plot(InSampleResult, label = 'In Sample')\r\n",
    "plt.plot(OutSampleResult, label = 'Out Sample')\r\n",
    "plt.legend()\r\n",
    "plt.title(\"Training Errors (with shuffle)\")\r\n",
    "plt.show()"
   ],
   "outputs": [
    {
     "output_type": "display_data",
     "data": {
      "text/plain": [
       "<matplotlib.figure.Figure at 0x22aaab63f60>"
      ],
      "image/png": "[encoded data removed]"
     },
     "metadata": {}
    }
   ],
   "metadata": {}
  }
 ],
 "metadata": {
  "kernelspec": {
   "display_name": "Python 3",
   "language": "python",
   "name": "python3"
  },
  "language_info": {
   "codemirror_mode": {
    "name": "ipython",
    "version": 3
   },
   "file_extension": ".py",
   "mimetype": "text/x-python",
   "name": "python",
   "nbconvert_exporter": "python",
   "pygments_lexer": "ipython3",
   "version": "3.6.0"
  }
 },
 "nbformat": 4,
 "nbformat_minor": 2
}